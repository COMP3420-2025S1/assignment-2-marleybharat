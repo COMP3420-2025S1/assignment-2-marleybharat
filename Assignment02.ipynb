{
 "cells": [
  {
   "cell_type": "markdown",
   "id": "a601c9c4",
   "metadata": {},
   "source": [
    "Assignment 02"
   ]
  }
 ],
 "metadata": {
  "language_info": {
   "name": "python"
  }
 },
 "nbformat": 4,
 "nbformat_minor": 5
}
